{
 "cells": [
  {
   "cell_type": "code",
   "execution_count": null,
   "metadata": {},
   "outputs": [],
   "source": [
    "import operator\n",
    "import csv\n",
    "reader = csv.reader(open(\"/home/arpit/football_cc_weekdata_output.csv\"), delimiter=\"\\t\")\n",
    "sortedlist = sorted(reader, key=operator.itemgetter(1), reverse=True)\n",
    "f=open('test.csv', \"w\")\n",
    "for row in sortedlist:\n",
    "    f.write(row[0]+'\\t'+row[1]+'\\n')"
   ]
  }
 ],
 "metadata": {
  "kernelspec": {
   "display_name": "Python 3",
   "language": "python",
   "name": "python3"
  },
  "language_info": {
   "codemirror_mode": {
    "name": "ipython",
    "version": 3
   },
   "file_extension": ".py",
   "mimetype": "text/x-python",
   "name": "python",
   "nbconvert_exporter": "python",
   "pygments_lexer": "ipython3",
   "version": "3.6.7"
  }
 },
 "nbformat": 4,
 "nbformat_minor": 2
}
