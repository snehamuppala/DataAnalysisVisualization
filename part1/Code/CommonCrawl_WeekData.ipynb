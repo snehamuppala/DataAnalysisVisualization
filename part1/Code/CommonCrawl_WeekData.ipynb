{
 "cells": [
  {
   "cell_type": "code",
   "execution_count": null,
   "metadata": {},
   "outputs": [],
   "source": [
    "import requests\n",
    "import gzip\n",
    "import urllib.request\n",
    "import json\n",
    "from bs4 import BeautifulSoup\n",
    "gameList = ['golf','boxing','mlb','nba','nfl']\n",
    "#gameList = ['nfl']\n",
    "\n",
    "for game in gameList:\n",
    "    lst = []\n",
    "    count = 0 \n",
    "    link = \"https://index.commoncrawl.org/CC-MAIN-2019-13-index?url=www.espn.com%2F\"+game+\"*&output=json\"\n",
    "    resp = requests.get(link)\n",
    "    string = resp.content.decode('utf-8')\n",
    "    s = string.split('\\n')\n",
    "    l = len(s)\n",
    "    fname = game+\"_full.txt\"\n",
    "    f=open(fname, \"a+\")\n",
    "    for c in range(l-2,0,-1):\n",
    "        json_obj = json.loads(s[c])\n",
    "        offset = int(json_obj[\"offset\"])\n",
    "        length = int(json_obj[\"length\"])\n",
    "        url = json_obj[\"url\"]\n",
    "        if url not in lst:\n",
    "            lst.append(url)\n",
    "            end = offset + length -1\n",
    "            filename = json_obj[\"filename\"]\n",
    "            request = urllib.request.Request(\n",
    "                \"https://commoncrawl.s3.amazonaws.com/\"+filename,headers={'Range': 'bytes={}-{}'.format(offset, end)})\n",
    "            response = urllib.request.urlopen(request)\n",
    "            gzipFile = gzip.GzipFile(fileobj=response)\n",
    "            var = gzipFile.read()\n",
    "            #making soup\n",
    "            soup = BeautifulSoup(var, \"html.parser\")\n",
    "            m = soup.find_all('p')\n",
    "            for i in m:\n",
    "                f.write(i.text)\n",
    "            f.write('\\n')"
   ]
  }
 ],
 "metadata": {
  "kernelspec": {
   "display_name": "Python 3",
   "language": "python",
   "name": "python3"
  },
  "language_info": {
   "codemirror_mode": {
    "name": "ipython",
    "version": 3
   },
   "file_extension": ".py",
   "mimetype": "text/x-python",
   "name": "python",
   "nbconvert_exporter": "python",
   "pygments_lexer": "ipython3",
   "version": "3.6.7"
  }
 },
 "nbformat": 4,
 "nbformat_minor": 2
}
